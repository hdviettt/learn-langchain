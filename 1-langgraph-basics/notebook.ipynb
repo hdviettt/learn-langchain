{
 "cells": [
  {
   "cell_type": "code",
   "execution_count": 2,
   "id": "f0c22845",
   "metadata": {},
   "outputs": [],
   "source": [
    "from typing import TypedDict\n",
    "from langgraph.graph import StateGraph\n",
    "import math\n",
    "from IPython.display import Image, display"
   ]
  },
  {
   "cell_type": "markdown",
   "id": "15f00245",
   "metadata": {},
   "source": [
    "# Make a flow that returns the square of a number, then the factorial for that squared number\n",
    "\n",
    "input = x\n",
    "\n",
    "- step 1: y = x^2\n",
    "- step 2: z = y!\n",
    "  \n",
    "the return type of the ouput is an integer"
   ]
  },
  {
   "cell_type": "code",
   "execution_count": 3,
   "id": "647b86b8",
   "metadata": {},
   "outputs": [],
   "source": [
    "## Define class for AgentState (state of the entire flow)\n",
    "\n",
    "class AgentState(TypedDict):\n",
    "    num: int"
   ]
  },
  {
   "cell_type": "code",
   "execution_count": 4,
   "id": "20d1693b",
   "metadata": {},
   "outputs": [],
   "source": [
    "## create first node for square\n",
    "def square(state: AgentState) -> AgentState:\n",
    "    state['num'] = state['num'] ** 2\n",
    "    return state\n",
    "\n",
    "## create second node for factorial\n",
    "def factorial(state: AgentState) -> AgentState:\n",
    "    state['num'] = math.factorial(state['num'])\n",
    "    return state"
   ]
  },
  {
   "cell_type": "code",
   "execution_count": 5,
   "id": "8261f6d9",
   "metadata": {},
   "outputs": [
    {
     "data": {
      "text/plain": [
       "<langgraph.graph.state.StateGraph at 0x230f82c6270>"
      ]
     },
     "execution_count": 5,
     "metadata": {},
     "output_type": "execute_result"
    }
   ],
   "source": [
    "graph = StateGraph(AgentState)\n",
    "graph.add_node(\"squaring\", square)\n",
    "graph.add_node(\"factoring\", factorial)\n",
    "\n",
    "graph.add_edge(\"squaring\", \"factoring\")"
   ]
  },
  {
   "cell_type": "code",
   "execution_count": 6,
   "id": "c2b79562",
   "metadata": {},
   "outputs": [],
   "source": [
    "graph.set_entry_point(\"squaring\")\n",
    "graph.set_finish_point(\"factoring\")\n",
    "\n",
    "app = graph.compile()"
   ]
  },
  {
   "cell_type": "code",
   "execution_count": 9,
   "id": "e8d34a56",
   "metadata": {},
   "outputs": [
    {
     "data": {
      "text/plain": [
       "24"
      ]
     },
     "execution_count": 9,
     "metadata": {},
     "output_type": "execute_result"
    }
   ],
   "source": [
    "result = app.invoke({\"num\": int(input())})\n",
    "result[\"num\"]"
   ]
  },
  {
   "cell_type": "code",
   "execution_count": 8,
   "id": "a92118d3",
   "metadata": {},
   "outputs": [
    {
     "data": {
      "image/png": "[encoded data removed]",
      "text/plain": [
       "<IPython.core.display.Image object>"
      ]
     },
     "metadata": {},
     "output_type": "display_data"
    }
   ],
   "source": [
    "display(Image(app.get_graph().draw_mermaid_png()))"
   ]
  }
 ],
 "metadata": {
  "kernelspec": {
   "display_name": "Python 3",
   "language": "python",
   "name": "python3"
  },
  "language_info": {
   "codemirror_mode": {
    "name": "ipython",
    "version": 3
   },
   "file_extension": ".py",
   "mimetype": "text/x-python",
   "name": "python",
   "nbconvert_exporter": "python",
   "pygments_lexer": "ipython3",
   "version": "3.13.3"
  }
 },
 "nbformat": 4,
 "nbformat_minor": 5
}
