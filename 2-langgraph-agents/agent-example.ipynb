{
 "cells": [
  {
   "cell_type": "markdown",
   "id": "d2b721fe",
   "metadata": {},
   "source": [
    "# HANDOFFS\n",
    "\n",
    "Handoffs decide handing control over to another agent:\n",
    "- Destination: Which agent to go to\n",
    "- Payload: What information to give to that agent"
   ]
  },
  {
   "cell_type": "code",
   "execution_count": null,
   "id": "a309ebd8",
   "metadata": {},
   "outputs": [],
   "source": []
  }
 ],
 "metadata": {
  "language_info": {
   "name": "python"
  }
 },
 "nbformat": 4,
 "nbformat_minor": 5
}
